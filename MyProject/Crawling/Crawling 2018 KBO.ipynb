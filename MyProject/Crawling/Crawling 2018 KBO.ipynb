{
 "cells": [
  {
   "cell_type": "code",
   "execution_count": 1,
   "metadata": {},
   "outputs": [],
   "source": [
    "from bs4 import BeautifulSoup\n",
    "from selenium import webdriver\n",
    "from tqdm import tqdm_notebook\n",
    "from time import sleep\n",
    "import pandas as pd\n",
    "import numpy as np\n",
    "import re\n",
    "import math\n",
    "import datetime"
   ]
  },
  {
   "cell_type": "code",
   "execution_count": 2,
   "metadata": {},
   "outputs": [],
   "source": [
    "driver_path = \"driver/chromedriver.exe\"\n",
    "driver = webdriver.Chrome(executable_path=driver_path)"
   ]
  },
  {
   "cell_type": "markdown",
   "metadata": {},
   "source": [
    "# 네이버 url 수집"
   ]
  },
  {
   "cell_type": "code",
   "execution_count": 3,
   "metadata": {},
   "outputs": [
    {
     "data": {
      "application/vnd.jupyter.widget-view+json": {
       "model_id": "9bcc9f78cad1470b8dfb3742d5b9a98d",
       "version_major": 2,
       "version_minor": 0
      },
      "text/plain": [
       "HBox(children=(IntProgress(value=0, max=8), HTML(value='')))"
      ]
     },
     "metadata": {},
     "output_type": "display_data"
    },
    {
     "name": "stdout",
     "output_type": "stream",
     "text": [
      "\n"
     ]
    }
   ],
   "source": [
    "months = ['03', '04', '05', '06', '07', '08', '09', '10']\n",
    "url_list = []\n",
    "\n",
    "for month in tqdm_notebook(months):\n",
    "    url_schedule = 'https://sports.news.naver.com/kbaseball/schedule/index.nhn?month={month}&year=2018'\n",
    "    driver.get(url_schedule.format(month=month))\n",
    "    html_sch = driver.page_source\n",
    "    soup_sch = BeautifulSoup(html_sch, \"lxml\")\n",
    "    game_url = soup_sch.find(\"div\", \"tb_wrap\").find_all(\"a\")\n",
    "    for j in range(len(game_url)):\n",
    "        url_list.append(game_url[j].attrs['href'])\n",
    "        \n",
    "url_list = pd.DataFrame({'url':url_list})\n",
    "url_list = url_list[url_list.url.str.contains('gameResult') == True]\n",
    "url_list = url_list[url_list.url > '/gameCenter/gameResult.nhn?category=kbo&gameId=20180321LGWO02018']\n",
    "url_list = url_list[url_list.url < '/gameCenter/gameResult.nhn?category=kbo&gameId=33331019WOHH02018']\n",
    "url_list = list(url_list.url)"
   ]
  },
  {
   "cell_type": "markdown",
   "metadata": {},
   "source": [
    "# 네이버 기록 수집"
   ]
  },
  {
   "cell_type": "code",
   "execution_count": 4,
   "metadata": {},
   "outputs": [
    {
     "data": {
      "application/vnd.jupyter.widget-view+json": {
       "model_id": "a05d5aac372b463ba9cee0634cc37034",
       "version_major": 2,
       "version_minor": 0
      },
      "text/plain": [
       "HBox(children=(IntProgress(value=0, max=720), HTML(value='')))"
      ]
     },
     "metadata": {},
     "output_type": "display_data"
    },
    {
     "name": "stdout",
     "output_type": "stream",
     "text": [
      "\n"
     ]
    }
   ],
   "source": [
    "table = []\n",
    "loc = []\n",
    "teams_H = []\n",
    "teams_P = []\n",
    "date_list = []\n",
    "\n",
    "for url in tqdm_notebook(url_list):\n",
    "    url_page = 'https://sports.news.naver.com{url}'\n",
    "    driver.get(url_page.format(url=url))\n",
    "    html = driver.page_source # 드라이버에서 현재 띄우고 있는 html을 주소 변수로 설정\n",
    "    soup = BeautifulSoup(html, \"lxml\")\n",
    "    view = soup.find(\"div\", \"ground_area\")\n",
    "    hit = view.find_all('div','ico hit')\n",
    "    out = view.find_all('div','ico out')\n",
    "    hrun = view.find_all('div','ico run')\n",
    "    ha = re.findall('[A-Z][A-Z]', url)\n",
    "\n",
    "    for i in range(len(hit)):\n",
    "        table.append(hit[i].find('div').get_text())\n",
    "    for i in range(len(out)):\n",
    "        table.append(out[i].find('div').get_text())\n",
    "    for i in range(len(hrun)):\n",
    "        table.append(hrun[i].find('div').get_text())\n",
    "    \n",
    "    for i in range(len(hit)):\n",
    "        loc.append(hit[i].attrs['style'])\n",
    "    for i in range(len(out)):\n",
    "        loc.append(out[i].attrs['style'])\n",
    "    for i in range(len(hrun)):\n",
    "        loc.append(hrun[i].attrs['style'])\n",
    "    \n",
    "    for i in range(len(hit)):\n",
    "        if hit[i].attrs['id'].split('_')[0] == 'home':\n",
    "            team = ha[1]\n",
    "        else:\n",
    "            team = ha[0]\n",
    "        teams_H.append(team)\n",
    "    for i in range(len(out)):\n",
    "        if out[i].attrs['id'].split('_')[0] == 'home':\n",
    "            team = ha[1]\n",
    "        else:\n",
    "            team = ha[0]\n",
    "        teams_H.append(team)\n",
    "    for i in range(len(hrun)):\n",
    "        if hrun[i].attrs['id'].split('_')[0] == 'home':\n",
    "            team = ha[1]\n",
    "        else:\n",
    "            team = ha[0]\n",
    "        teams_H.append(team)\n",
    "    \n",
    "    for i in range(len(hit)):\n",
    "        if hit[i].attrs['id'].split('_')[0] == 'home':\n",
    "            team = ha[0]\n",
    "        else:\n",
    "            team = ha[1]\n",
    "        teams_P.append(team)\n",
    "    for i in range(len(out)):\n",
    "        if out[i].attrs['id'].split('_')[0] == 'home':\n",
    "            team = ha[0]\n",
    "        else:\n",
    "            team = ha[1]\n",
    "        teams_P.append(team)\n",
    "    for i in range(len(hrun)):\n",
    "        if hrun[i].attrs['id'].split('_')[0] == 'home':\n",
    "            team = ha[0]\n",
    "        else:\n",
    "            team = ha[1]\n",
    "        teams_P.append(team)\n",
    "        \n",
    "    for i in range(len(hit)+len(out)+len(hrun)):\n",
    "        date_list.append(re.search('\\d\\d\\d\\d\\d\\d\\d\\d', url).group())\n",
    "    \n",
    "    sleep(5/10);\n",
    "    "
   ]
  },
  {
   "cell_type": "markdown",
   "metadata": {},
   "source": [
    "# 수집 데이터 전처리"
   ]
  },
  {
   "cell_type": "code",
   "execution_count": 5,
   "metadata": {},
   "outputs": [],
   "source": [
    "df = pd.DataFrame({'date':date_list, 'batter_team':teams_H, 'pitcher_team':teams_P, 'table':table, 'loc':loc})\n",
    "df['X'] = df['loc'].apply(lambda e: e.split(';')[0])\n",
    "df['Y'] = df['loc'].apply(lambda e: e.split(';')[1])\n",
    "df = df.drop(columns = 'loc')\n",
    "\n",
    "df['fr'] = df['table'].apply(lambda e: e.split('(')[0])\n",
    "df['inning'] = df['fr'].apply(lambda e: e.split(' ')[0])\n",
    "df['batter'] = df['fr'].apply(lambda e: e.split(' ')[1])\n",
    "df['result'] = df['fr'].apply(lambda e: e.split(' ')[2])\n",
    "df['ba'] = df['table'].apply(lambda e: e.split('(')[1])\n",
    "df['cause'] = df['ba'].apply(lambda e: e.split(')')[0])\n",
    "df['pitcher'] = df['ba'].apply(lambda e: e.split(')')[1])\n",
    "df = df.drop(columns = ['table', 'fr', 'ba'])\n",
    "\n",
    "df['X'] = df['X'].str.replace('left:', '')\n",
    "df['X'] = df['X'].str.replace('px', '')\n",
    "df['X'] = df['X'].str.replace(' ', '').astype(np.float64)\n",
    "df['Y'] = df['Y'].str.replace('top:', '')\n",
    "df['Y'] = df['Y'].str.replace('px', '')\n",
    "df['Y'] = df['Y'].str.replace(' ', '').astype(np.float64)\n",
    "df['pitcher'] = df['pitcher'].str.replace('상대투수-', '')\n",
    "df['pitcher'] = df['pitcher'].str.replace(' ', '')\n",
    "\n",
    "record = df[['date', 'inning', 'batter_team', 'batter', 'pitcher_team', 'pitcher', 'result', 'cause', 'X', 'Y']]\n",
    "record = record.replace({'WO':'넥센', 'HH':'한화', 'HT':'KIA', 'OB':'두산', 'LT':'롯데', 'SS':'삼성', 'KT':'kt'})"
   ]
  },
  {
   "cell_type": "markdown",
   "metadata": {},
   "source": [
    "# 필요없는 데이터 정제"
   ]
  },
  {
   "cell_type": "code",
   "execution_count": 6,
   "metadata": {},
   "outputs": [],
   "source": [
    "record = record[record.cause.str.contains('삼진|낫 아웃|고의4구') == False]\n",
    "record.result[record.cause.str.contains('출루') == True] = '범타'\n",
    "record = record.reset_index(drop=True)"
   ]
  },
  {
   "cell_type": "markdown",
   "metadata": {},
   "source": [
    "# 타구 방향 데이터 추가"
   ]
  },
  {
   "cell_type": "code",
   "execution_count": 7,
   "metadata": {},
   "outputs": [],
   "source": [
    "def makeAngle(x, y):\n",
    "    atan = math.atan2(-(y-311), (x-216.5))\n",
    "    angle = 180 - (atan * (180 / math.pi))\n",
    "    return angle"
   ]
  },
  {
   "cell_type": "code",
   "execution_count": 8,
   "metadata": {},
   "outputs": [],
   "source": [
    "angle_list = []\n",
    "for i in range(len(record)):\n",
    "    angle_list.append(makeAngle(record.X[i], record.Y[i]))"
   ]
  },
  {
   "cell_type": "code",
   "execution_count": 9,
   "metadata": {},
   "outputs": [],
   "source": [
    "record['angle'] = angle_list\n",
    "record = record[['date', 'inning', 'batter_team', 'batter', 'pitcher_team', 'pitcher', 'result', 'cause', 'X', 'Y', 'angle']]"
   ]
  },
  {
   "cell_type": "code",
   "execution_count": 10,
   "metadata": {},
   "outputs": [
    {
     "data": {
      "text/html": [
       "<div>\n",
       "<style scoped>\n",
       "    .dataframe tbody tr th:only-of-type {\n",
       "        vertical-align: middle;\n",
       "    }\n",
       "\n",
       "    .dataframe tbody tr th {\n",
       "        vertical-align: top;\n",
       "    }\n",
       "\n",
       "    .dataframe thead th {\n",
       "        text-align: right;\n",
       "    }\n",
       "</style>\n",
       "<table border=\"1\" class=\"dataframe\">\n",
       "  <thead>\n",
       "    <tr style=\"text-align: right;\">\n",
       "      <th></th>\n",
       "      <th>date</th>\n",
       "      <th>inning</th>\n",
       "      <th>batter_team</th>\n",
       "      <th>batter</th>\n",
       "      <th>pitcher_team</th>\n",
       "      <th>pitcher</th>\n",
       "      <th>result</th>\n",
       "      <th>cause</th>\n",
       "      <th>X</th>\n",
       "      <th>Y</th>\n",
       "      <th>angle</th>\n",
       "    </tr>\n",
       "  </thead>\n",
       "  <tbody>\n",
       "    <tr>\n",
       "      <th>0</th>\n",
       "      <td>20180324</td>\n",
       "      <td>2회말</td>\n",
       "      <td>넥센</td>\n",
       "      <td>김하성</td>\n",
       "      <td>한화</td>\n",
       "      <td>샘슨</td>\n",
       "      <td>안타</td>\n",
       "      <td>좌중간 1루타</td>\n",
       "      <td>199.36</td>\n",
       "      <td>159.50</td>\n",
       "      <td>83.545270</td>\n",
       "    </tr>\n",
       "    <tr>\n",
       "      <th>1</th>\n",
       "      <td>20180324</td>\n",
       "      <td>3회말</td>\n",
       "      <td>넥센</td>\n",
       "      <td>박병호</td>\n",
       "      <td>한화</td>\n",
       "      <td>샘슨</td>\n",
       "      <td>안타</td>\n",
       "      <td>좌익수 앞 1루타</td>\n",
       "      <td>150.37</td>\n",
       "      <td>181.25</td>\n",
       "      <td>62.993314</td>\n",
       "    </tr>\n",
       "    <tr>\n",
       "      <th>2</th>\n",
       "      <td>20180324</td>\n",
       "      <td>4회말</td>\n",
       "      <td>넥센</td>\n",
       "      <td>고종욱</td>\n",
       "      <td>한화</td>\n",
       "      <td>샘슨</td>\n",
       "      <td>안타</td>\n",
       "      <td>우익수 앞 1루타</td>\n",
       "      <td>300.18</td>\n",
       "      <td>174.50</td>\n",
       "      <td>121.509975</td>\n",
       "    </tr>\n",
       "    <tr>\n",
       "      <th>3</th>\n",
       "      <td>20180324</td>\n",
       "      <td>4회말</td>\n",
       "      <td>넥센</td>\n",
       "      <td>이정후</td>\n",
       "      <td>한화</td>\n",
       "      <td>샘슨</td>\n",
       "      <td>안타</td>\n",
       "      <td>좌중간 2루타</td>\n",
       "      <td>148.95</td>\n",
       "      <td>100.25</td>\n",
       "      <td>72.228205</td>\n",
       "    </tr>\n",
       "    <tr>\n",
       "      <th>4</th>\n",
       "      <td>20180324</td>\n",
       "      <td>4회말</td>\n",
       "      <td>넥센</td>\n",
       "      <td>박동원</td>\n",
       "      <td>한화</td>\n",
       "      <td>샘슨</td>\n",
       "      <td>안타</td>\n",
       "      <td>중견수 왼쪽 1루타</td>\n",
       "      <td>207.17</td>\n",
       "      <td>131.00</td>\n",
       "      <td>87.032824</td>\n",
       "    </tr>\n",
       "  </tbody>\n",
       "</table>\n",
       "</div>"
      ],
      "text/plain": [
       "       date inning batter_team batter pitcher_team pitcher result       cause  \\\n",
       "0  20180324    2회말          넥센    김하성           한화      샘슨     안타     좌중간 1루타   \n",
       "1  20180324    3회말          넥센    박병호           한화      샘슨     안타   좌익수 앞 1루타   \n",
       "2  20180324    4회말          넥센    고종욱           한화      샘슨     안타   우익수 앞 1루타   \n",
       "3  20180324    4회말          넥센    이정후           한화      샘슨     안타     좌중간 2루타   \n",
       "4  20180324    4회말          넥센    박동원           한화      샘슨     안타  중견수 왼쪽 1루타   \n",
       "\n",
       "        X       Y       angle  \n",
       "0  199.36  159.50   83.545270  \n",
       "1  150.37  181.25   62.993314  \n",
       "2  300.18  174.50  121.509975  \n",
       "3  148.95  100.25   72.228205  \n",
       "4  207.17  131.00   87.032824  "
      ]
     },
     "execution_count": 10,
     "metadata": {},
     "output_type": "execute_result"
    }
   ],
   "source": [
    "record.head()"
   ]
  },
  {
   "cell_type": "markdown",
   "metadata": {},
   "source": [
    "# CSV로 저장"
   ]
  },
  {
   "cell_type": "code",
   "execution_count": 11,
   "metadata": {},
   "outputs": [],
   "source": [
    "record.to_csv('2018naver.csv', index=False)"
   ]
  },
  {
   "cell_type": "markdown",
   "metadata": {},
   "source": [
    "# 경기일 리스트 생성"
   ]
  },
  {
   "cell_type": "code",
   "execution_count": 12,
   "metadata": {},
   "outputs": [],
   "source": [
    "date_u = pd.Series(pd.Series(date_list).unique())\n",
    "\n",
    "def changedate(value):\n",
    "    afterformat = datetime.datetime.strptime(value, '%Y%m%d').strftime('%Y-%m-%d')\n",
    "    return afterformat\n",
    "\n",
    "date_ulist = date_u.apply(changedate)"
   ]
  },
  {
   "cell_type": "markdown",
   "metadata": {},
   "source": [
    "# 스탯티즈 url 수집"
   ]
  },
  {
   "cell_type": "code",
   "execution_count": 13,
   "metadata": {},
   "outputs": [
    {
     "data": {
      "application/vnd.jupyter.widget-view+json": {
       "model_id": "6bb003fc4a2b455fa30ac2123772c172",
       "version_major": 2,
       "version_minor": 0
      },
      "text/plain": [
       "HBox(children=(IntProgress(value=0, max=155), HTML(value='')))"
      ]
     },
     "metadata": {},
     "output_type": "display_data"
    },
    {
     "name": "stdout",
     "output_type": "stream",
     "text": [
      "\n"
     ]
    }
   ],
   "source": [
    "url_list_statiz = []\n",
    "\n",
    "for date in tqdm_notebook(date_ulist):\n",
    "    url_url = 'http://www.statiz.co.kr/boxscore.php?opt=1&date={date}'\n",
    "    driver.get(url_url.format(date=date))\n",
    "    html_url = driver.page_source\n",
    "    soup_url = BeautifulSoup(html_url, \"lxml\")\n",
    "    soup_urls = soup_url.find_all('div', 'box')\n",
    "    for i in range(len(soup_urls) - 2):\n",
    "        url_list_statiz.append(soup_urls[2 + i].find_all('a')[-2].attrs['href'])\n",
    "        \n",
    "url_listS = pd.Series(url_list_statiz)\n",
    "url_listS = url_listS[url_listS.str.contains('=5')]\n",
    "url_list_statiz = list(url_listS)"
   ]
  },
  {
   "cell_type": "markdown",
   "metadata": {},
   "source": [
    "# 스탯티즈 경기 로그 수집"
   ]
  },
  {
   "cell_type": "code",
   "execution_count": 14,
   "metadata": {},
   "outputs": [
    {
     "data": {
      "application/vnd.jupyter.widget-view+json": {
       "model_id": "ceb3ce7cbcaa48d88b2d843b71f3b25f",
       "version_major": 2,
       "version_minor": 0
      },
      "text/plain": [
       "HBox(children=(IntProgress(value=0, max=720), HTML(value='')))"
      ]
     },
     "metadata": {},
     "output_type": "display_data"
    },
    {
     "name": "stdout",
     "output_type": "stream",
     "text": [
      "\n"
     ]
    }
   ],
   "source": [
    "inning_list = []\n",
    "pitcher = []\n",
    "batter = []\n",
    "ballcnt = []\n",
    "result = []\n",
    "out = []\n",
    "runner = []\n",
    "score = []\n",
    "batter_team = []\n",
    "pitcher_team = []\n",
    "gamedate_list = []\n",
    "\n",
    "for url in tqdm_notebook(url_list_statiz):\n",
    "    sit = []\n",
    "    inning = []\n",
    "    url_page = 'http://www.statiz.co.kr/{url}'\n",
    "    driver.get(url_page.format(url=url))\n",
    "    html = driver.page_source # 드라이버에서 현재 띄우고 있는 html을 주소 변수로 설정\n",
    "    soup = BeautifulSoup(html, \"lxml\")\n",
    "    lists = soup.find_all('table', 'table table-striped')[2].find_all('tr', 'oddrow_stz')\n",
    "    lists = lists + soup.find_all('table', 'table table-striped')[2].find_all('tr', 'evenrow_stz')\n",
    "    day = re.search('\\d\\d\\d\\d-\\d\\d-\\d\\d', url)[0]\n",
    "    gamedate = day.replace(\"-\",\"\")\n",
    "    away = soup.find_all('h3')[1].get_text()\n",
    "    awayteam = re.findall('[ㄱ-ㅎ|ㅏ-ㅣ|가-힣]+|[a-zA-Z]+', away)[0]\n",
    "    home = soup.find_all('h3')[2].get_text()\n",
    "    hometeam = re.findall('[ㄱ-ㅎ|ㅏ-ㅣ|가-힣]+|[a-zA-Z]+', home)[0]\n",
    "    \n",
    "    for i in range(len(lists)):\n",
    "        if lists[i].find_all('td')[0].get_text() != \"\":\n",
    "            inning.append(lists[i].find_all('td')[0].get_text())\n",
    "        else:\n",
    "            inning.append(inning[i-1])\n",
    "    inning_list = inning_list + inning\n",
    "    for i in range(len(lists)):\n",
    "        pitcher.append(lists[i].find_all('td')[1].get_text())\n",
    "\n",
    "    for i in range(len(lists)):\n",
    "        batter.append(lists[i].find_all('td')[2].find('a').get_text())\n",
    "    \n",
    "    for i in range(len(lists)):\n",
    "        ballcnt.append(lists[i].find_all('td')[3].get_text())\n",
    "    \n",
    "    for i in range(len(lists)):\n",
    "        result.append(lists[i].find_all('td')[4].get_text())\n",
    "    \n",
    "    for i in range(len(lists)):\n",
    "        sit.append(lists[i].find_all('td')[5].get_text())\n",
    "    \n",
    "    for i in range(len(lists)):\n",
    "        if len(sit[i].split()) > 0:\n",
    "            out.append(sit[i].split()[0])\n",
    "        else:\n",
    "            out.append('')\n",
    "        \n",
    "    for i in range(len(lists)):\n",
    "        if len(sit[i].split()) > 2:\n",
    "            runner.append(sit[i].split()[1:-1][0])\n",
    "        else:\n",
    "            runner.append('')\n",
    "        \n",
    "    for i in range(len(lists)):\n",
    "        if len(sit[i].split()) > 0:\n",
    "            score.append(sit[i].split()[-1])\n",
    "        else:\n",
    "            score.append('')\n",
    "            \n",
    "    for i in range(len(lists)):\n",
    "        gamedate_list.append(gamedate)\n",
    "        \n",
    "    for i in range(len(lists)):\n",
    "        if re.search('[ㄱ-ㅎ|ㅏ-ㅣ|가-힣]', inning[i]).group() == '초':\n",
    "            batter_team.append(awayteam)\n",
    "            pitcher_team.append(hometeam)\n",
    "        else:\n",
    "            batter_team.append(hometeam)\n",
    "            pitcher_team.append(awayteam)\n",
    "            \n",
    "    sleep(2/10);"
   ]
  },
  {
   "cell_type": "markdown",
   "metadata": {},
   "source": [
    "# 수집 데이터 전처리"
   ]
  },
  {
   "cell_type": "code",
   "execution_count": 15,
   "metadata": {},
   "outputs": [],
   "source": [
    "record_statiz = pd.DataFrame({'date':gamedate_list,\n",
    "                              'inning':inning_list,\n",
    "                              'batter_team': batter_team,\n",
    "                              'batter':batter,\n",
    "                              'pitcher_team':pitcher_team,\n",
    "                              'pitcher':pitcher,\n",
    "                              'ball_count':ballcnt,\n",
    "                              'score':score,\n",
    "                              'out':out,\n",
    "                              'runner':runner,\n",
    "                              'results':result})\n",
    "\n",
    "record_statiz = record_statiz[record_statiz.ball_count != '']\n",
    "record_statiz['inning'] = record_statiz.inning.str.replace('초', '회초')\n",
    "record_statiz['inning'] = record_statiz.inning.str.replace('말', '회말')\n",
    "record_statiz['batter_team'] = record_statiz.batter_team.str.replace('KT', 'kt')\n",
    "record_statiz['pitcher_team'] = record_statiz.pitcher_team.str.replace('KT', 'kt')\n",
    "record_statiz['pitcher'] = record_statiz.pitcher.str.replace('김용성', '김건국')\n",
    "record_statiz['pitcher'] = record_statiz.pitcher.str.replace('민성기', '민태호')\n",
    "record_statiz['pitcher'] = record_statiz.pitcher.str.replace('김정훈', '김건태')\n",
    "record_statiz['pitcher'] = record_statiz.pitcher.str.replace('최동현', '최원준')\n",
    "record_statiz['pitcher'] = record_statiz.pitcher.str.replace('현기형', '현도훈')\n",
    "record_statiz['pitcher'] = record_statiz.pitcher.str.replace('이영재', '이우찬')\n",
    "record_statiz['batter'] = record_statiz.batter.str.replace('오승택', '오태곤')\n",
    "record_statiz['batter'] = record_statiz.batter.str.replace('윤여운', '윤수강')\n",
    "record_statiz['batter'] = record_statiz.batter.str.replace('배병옥', '배정대')\n",
    "record_statiz['batter'] = record_statiz.batter.str.replace('김사연', '김지열')\n",
    "record_statiz['batter'] = record_statiz.batter.str.replace('김동명', '김동욱')\n",
    "record_statiz.runner[record_statiz.runner == \"\"] = '주자없음'"
   ]
  },
  {
   "cell_type": "markdown",
   "metadata": {},
   "source": [
    "# 필요없는 데이터 삭제"
   ]
  },
  {
   "cell_type": "code",
   "execution_count": 16,
   "metadata": {},
   "outputs": [],
   "source": [
    "record_statiz = record_statiz[record_statiz.results.str.contains('삼진|볼넷|몸에 맞는 볼|고의4구|스트라이크낫아웃 출루|쓰리번트') == False]"
   ]
  },
  {
   "cell_type": "code",
   "execution_count": 17,
   "metadata": {},
   "outputs": [
    {
     "data": {
      "text/html": [
       "<div>\n",
       "<style scoped>\n",
       "    .dataframe tbody tr th:only-of-type {\n",
       "        vertical-align: middle;\n",
       "    }\n",
       "\n",
       "    .dataframe tbody tr th {\n",
       "        vertical-align: top;\n",
       "    }\n",
       "\n",
       "    .dataframe thead th {\n",
       "        text-align: right;\n",
       "    }\n",
       "</style>\n",
       "<table border=\"1\" class=\"dataframe\">\n",
       "  <thead>\n",
       "    <tr style=\"text-align: right;\">\n",
       "      <th></th>\n",
       "      <th>date</th>\n",
       "      <th>inning</th>\n",
       "      <th>batter_team</th>\n",
       "      <th>batter</th>\n",
       "      <th>pitcher_team</th>\n",
       "      <th>pitcher</th>\n",
       "      <th>ball_count</th>\n",
       "      <th>score</th>\n",
       "      <th>out</th>\n",
       "      <th>runner</th>\n",
       "      <th>results</th>\n",
       "    </tr>\n",
       "  </thead>\n",
       "  <tbody>\n",
       "    <tr>\n",
       "      <th>1</th>\n",
       "      <td>20180324</td>\n",
       "      <td>1회초</td>\n",
       "      <td>삼성</td>\n",
       "      <td>김상수</td>\n",
       "      <td>두산</td>\n",
       "      <td>린드블럼</td>\n",
       "      <td>3(1-1)</td>\n",
       "      <td>0:0</td>\n",
       "      <td>1사</td>\n",
       "      <td>주자없음</td>\n",
       "      <td>2루수 땅볼</td>\n",
       "    </tr>\n",
       "    <tr>\n",
       "      <th>3</th>\n",
       "      <td>20180324</td>\n",
       "      <td>1회초</td>\n",
       "      <td>삼성</td>\n",
       "      <td>러프</td>\n",
       "      <td>두산</td>\n",
       "      <td>린드블럼</td>\n",
       "      <td>2(1-0)</td>\n",
       "      <td>0:0</td>\n",
       "      <td>2사</td>\n",
       "      <td>1루</td>\n",
       "      <td>좌익수 2루타</td>\n",
       "    </tr>\n",
       "    <tr>\n",
       "      <th>4</th>\n",
       "      <td>20180324</td>\n",
       "      <td>1회초</td>\n",
       "      <td>삼성</td>\n",
       "      <td>강민호</td>\n",
       "      <td>두산</td>\n",
       "      <td>린드블럼</td>\n",
       "      <td>1(0-0)</td>\n",
       "      <td>1:0</td>\n",
       "      <td>2사</td>\n",
       "      <td>2루</td>\n",
       "      <td>포수 파울 뜬공</td>\n",
       "    </tr>\n",
       "    <tr>\n",
       "      <th>5</th>\n",
       "      <td>20180324</td>\n",
       "      <td>2회초</td>\n",
       "      <td>삼성</td>\n",
       "      <td>이원석</td>\n",
       "      <td>두산</td>\n",
       "      <td>린드블럼</td>\n",
       "      <td>3(1-1)</td>\n",
       "      <td>1:0</td>\n",
       "      <td>무사</td>\n",
       "      <td>주자없음</td>\n",
       "      <td>중견수 뜬공</td>\n",
       "    </tr>\n",
       "    <tr>\n",
       "      <th>7</th>\n",
       "      <td>20180324</td>\n",
       "      <td>2회초</td>\n",
       "      <td>삼성</td>\n",
       "      <td>김헌곤</td>\n",
       "      <td>두산</td>\n",
       "      <td>린드블럼</td>\n",
       "      <td>8(2-3)</td>\n",
       "      <td>1:0</td>\n",
       "      <td>2사</td>\n",
       "      <td>주자없음</td>\n",
       "      <td>2루수 안타</td>\n",
       "    </tr>\n",
       "  </tbody>\n",
       "</table>\n",
       "</div>"
      ],
      "text/plain": [
       "       date inning batter_team batter pitcher_team pitcher ball_count score  \\\n",
       "1  20180324    1회초          삼성    김상수           두산    린드블럼     3(1-1)   0:0   \n",
       "3  20180324    1회초          삼성     러프           두산    린드블럼     2(1-0)   0:0   \n",
       "4  20180324    1회초          삼성    강민호           두산    린드블럼     1(0-0)   1:0   \n",
       "5  20180324    2회초          삼성    이원석           두산    린드블럼     3(1-1)   1:0   \n",
       "7  20180324    2회초          삼성    김헌곤           두산    린드블럼     8(2-3)   1:0   \n",
       "\n",
       "  out runner   results  \n",
       "1  1사   주자없음    2루수 땅볼  \n",
       "3  2사     1루   좌익수 2루타  \n",
       "4  2사     2루  포수 파울 뜬공  \n",
       "5  무사   주자없음    중견수 뜬공  \n",
       "7  2사   주자없음    2루수 안타  "
      ]
     },
     "execution_count": 17,
     "metadata": {},
     "output_type": "execute_result"
    }
   ],
   "source": [
    "record_statiz.head()"
   ]
  },
  {
   "cell_type": "markdown",
   "metadata": {},
   "source": [
    "# CSV로 저장"
   ]
  },
  {
   "cell_type": "code",
   "execution_count": 18,
   "metadata": {},
   "outputs": [],
   "source": [
    "record_statiz.to_csv('2018statiz.csv', index=False)"
   ]
  },
  {
   "cell_type": "markdown",
   "metadata": {},
   "source": [
    "# CSV 불러오기"
   ]
  },
  {
   "cell_type": "code",
   "execution_count": 19,
   "metadata": {},
   "outputs": [],
   "source": [
    "naver = pd.read_csv(\"2018naver.csv\")\n",
    "statiz = pd.read_csv(\"2018statiz.csv\")"
   ]
  },
  {
   "cell_type": "markdown",
   "metadata": {},
   "source": [
    "# 데이터 조인"
   ]
  },
  {
   "cell_type": "code",
   "execution_count": 20,
   "metadata": {},
   "outputs": [],
   "source": [
    "combine = pd.merge(naver, statiz, how='outer')"
   ]
  },
  {
   "cell_type": "markdown",
   "metadata": {},
   "source": [
    "# 컬럼 정렬"
   ]
  },
  {
   "cell_type": "code",
   "execution_count": 21,
   "metadata": {},
   "outputs": [],
   "source": [
    "combine = combine[['date', 'inning',\n",
    "                   'score', 'out', 'runner',\n",
    "                   'batter_team', 'batter',\n",
    "                   'pitcher_team', 'pitcher',\n",
    "                   'ball_count',\n",
    "                   'result', 'cause',\n",
    "                   'X', 'Y', 'angle']]"
   ]
  },
  {
   "cell_type": "code",
   "execution_count": 22,
   "metadata": {},
   "outputs": [
    {
     "data": {
      "text/html": [
       "<div>\n",
       "<style scoped>\n",
       "    .dataframe tbody tr th:only-of-type {\n",
       "        vertical-align: middle;\n",
       "    }\n",
       "\n",
       "    .dataframe tbody tr th {\n",
       "        vertical-align: top;\n",
       "    }\n",
       "\n",
       "    .dataframe thead th {\n",
       "        text-align: right;\n",
       "    }\n",
       "</style>\n",
       "<table border=\"1\" class=\"dataframe\">\n",
       "  <thead>\n",
       "    <tr style=\"text-align: right;\">\n",
       "      <th></th>\n",
       "      <th>date</th>\n",
       "      <th>inning</th>\n",
       "      <th>score</th>\n",
       "      <th>out</th>\n",
       "      <th>runner</th>\n",
       "      <th>batter_team</th>\n",
       "      <th>batter</th>\n",
       "      <th>pitcher_team</th>\n",
       "      <th>pitcher</th>\n",
       "      <th>ball_count</th>\n",
       "      <th>result</th>\n",
       "      <th>cause</th>\n",
       "      <th>X</th>\n",
       "      <th>Y</th>\n",
       "      <th>angle</th>\n",
       "    </tr>\n",
       "  </thead>\n",
       "  <tbody>\n",
       "    <tr>\n",
       "      <th>0</th>\n",
       "      <td>20180324</td>\n",
       "      <td>2회말</td>\n",
       "      <td>2:0</td>\n",
       "      <td>1사</td>\n",
       "      <td>주자없음</td>\n",
       "      <td>넥센</td>\n",
       "      <td>김하성</td>\n",
       "      <td>한화</td>\n",
       "      <td>샘슨</td>\n",
       "      <td>7(2-3)</td>\n",
       "      <td>안타</td>\n",
       "      <td>좌중간 1루타</td>\n",
       "      <td>199.36</td>\n",
       "      <td>159.50</td>\n",
       "      <td>83.545270</td>\n",
       "    </tr>\n",
       "    <tr>\n",
       "      <th>1</th>\n",
       "      <td>20180324</td>\n",
       "      <td>3회말</td>\n",
       "      <td>2:1</td>\n",
       "      <td>2사</td>\n",
       "      <td>주자없음</td>\n",
       "      <td>넥센</td>\n",
       "      <td>박병호</td>\n",
       "      <td>한화</td>\n",
       "      <td>샘슨</td>\n",
       "      <td>4(1-2)</td>\n",
       "      <td>안타</td>\n",
       "      <td>좌익수 앞 1루타</td>\n",
       "      <td>150.37</td>\n",
       "      <td>181.25</td>\n",
       "      <td>62.993314</td>\n",
       "    </tr>\n",
       "    <tr>\n",
       "      <th>2</th>\n",
       "      <td>20180324</td>\n",
       "      <td>4회말</td>\n",
       "      <td>2:1</td>\n",
       "      <td>무사</td>\n",
       "      <td>주자없음</td>\n",
       "      <td>넥센</td>\n",
       "      <td>고종욱</td>\n",
       "      <td>한화</td>\n",
       "      <td>샘슨</td>\n",
       "      <td>1(0-0)</td>\n",
       "      <td>안타</td>\n",
       "      <td>우익수 앞 1루타</td>\n",
       "      <td>300.18</td>\n",
       "      <td>174.50</td>\n",
       "      <td>121.509975</td>\n",
       "    </tr>\n",
       "    <tr>\n",
       "      <th>3</th>\n",
       "      <td>20180324</td>\n",
       "      <td>4회말</td>\n",
       "      <td>2:1</td>\n",
       "      <td>1사</td>\n",
       "      <td>2루</td>\n",
       "      <td>넥센</td>\n",
       "      <td>이정후</td>\n",
       "      <td>한화</td>\n",
       "      <td>샘슨</td>\n",
       "      <td>2(0-1)</td>\n",
       "      <td>안타</td>\n",
       "      <td>좌중간 2루타</td>\n",
       "      <td>148.95</td>\n",
       "      <td>100.25</td>\n",
       "      <td>72.228205</td>\n",
       "    </tr>\n",
       "    <tr>\n",
       "      <th>4</th>\n",
       "      <td>20180324</td>\n",
       "      <td>4회말</td>\n",
       "      <td>2:2</td>\n",
       "      <td>1사</td>\n",
       "      <td>3루</td>\n",
       "      <td>넥센</td>\n",
       "      <td>박동원</td>\n",
       "      <td>한화</td>\n",
       "      <td>샘슨</td>\n",
       "      <td>6(2-3)</td>\n",
       "      <td>안타</td>\n",
       "      <td>중견수 왼쪽 1루타</td>\n",
       "      <td>207.17</td>\n",
       "      <td>131.00</td>\n",
       "      <td>87.032824</td>\n",
       "    </tr>\n",
       "  </tbody>\n",
       "</table>\n",
       "</div>"
      ],
      "text/plain": [
       "       date inning score out runner batter_team batter pitcher_team pitcher  \\\n",
       "0  20180324    2회말   2:0  1사   주자없음          넥센    김하성           한화      샘슨   \n",
       "1  20180324    3회말   2:1  2사   주자없음          넥센    박병호           한화      샘슨   \n",
       "2  20180324    4회말   2:1  무사   주자없음          넥센    고종욱           한화      샘슨   \n",
       "3  20180324    4회말   2:1  1사     2루          넥센    이정후           한화      샘슨   \n",
       "4  20180324    4회말   2:2  1사     3루          넥센    박동원           한화      샘슨   \n",
       "\n",
       "  ball_count result       cause       X       Y       angle  \n",
       "0     7(2-3)     안타     좌중간 1루타  199.36  159.50   83.545270  \n",
       "1     4(1-2)     안타   좌익수 앞 1루타  150.37  181.25   62.993314  \n",
       "2     1(0-0)     안타   우익수 앞 1루타  300.18  174.50  121.509975  \n",
       "3     2(0-1)     안타     좌중간 2루타  148.95  100.25   72.228205  \n",
       "4     6(2-3)     안타  중견수 왼쪽 1루타  207.17  131.00   87.032824  "
      ]
     },
     "execution_count": 22,
     "metadata": {},
     "output_type": "execute_result"
    }
   ],
   "source": [
    "combine.head()"
   ]
  },
  {
   "cell_type": "markdown",
   "metadata": {},
   "source": [
    "# 필요없는 데이터 삭제"
   ]
  },
  {
   "cell_type": "code",
   "execution_count": 23,
   "metadata": {},
   "outputs": [],
   "source": [
    "combine = combine[combine.cause.str.contains('번트|삼진|포수 파울플라이|낫 아웃') == False]"
   ]
  },
  {
   "cell_type": "code",
   "execution_count": 24,
   "metadata": {},
   "outputs": [
    {
     "data": {
      "text/html": [
       "<div>\n",
       "<style scoped>\n",
       "    .dataframe tbody tr th:only-of-type {\n",
       "        vertical-align: middle;\n",
       "    }\n",
       "\n",
       "    .dataframe tbody tr th {\n",
       "        vertical-align: top;\n",
       "    }\n",
       "\n",
       "    .dataframe thead th {\n",
       "        text-align: right;\n",
       "    }\n",
       "</style>\n",
       "<table border=\"1\" class=\"dataframe\">\n",
       "  <thead>\n",
       "    <tr style=\"text-align: right;\">\n",
       "      <th></th>\n",
       "      <th>date</th>\n",
       "      <th>inning</th>\n",
       "      <th>score</th>\n",
       "      <th>out</th>\n",
       "      <th>runner</th>\n",
       "      <th>batter_team</th>\n",
       "      <th>batter</th>\n",
       "      <th>pitcher_team</th>\n",
       "      <th>pitcher</th>\n",
       "      <th>ball_count</th>\n",
       "      <th>result</th>\n",
       "      <th>cause</th>\n",
       "      <th>X</th>\n",
       "      <th>Y</th>\n",
       "      <th>angle</th>\n",
       "    </tr>\n",
       "  </thead>\n",
       "  <tbody>\n",
       "    <tr>\n",
       "      <th>0</th>\n",
       "      <td>20180324</td>\n",
       "      <td>2회말</td>\n",
       "      <td>2:0</td>\n",
       "      <td>1사</td>\n",
       "      <td>주자없음</td>\n",
       "      <td>넥센</td>\n",
       "      <td>김하성</td>\n",
       "      <td>한화</td>\n",
       "      <td>샘슨</td>\n",
       "      <td>7(2-3)</td>\n",
       "      <td>안타</td>\n",
       "      <td>좌중간 1루타</td>\n",
       "      <td>199.36</td>\n",
       "      <td>159.50</td>\n",
       "      <td>83.545270</td>\n",
       "    </tr>\n",
       "    <tr>\n",
       "      <th>1</th>\n",
       "      <td>20180324</td>\n",
       "      <td>3회말</td>\n",
       "      <td>2:1</td>\n",
       "      <td>2사</td>\n",
       "      <td>주자없음</td>\n",
       "      <td>넥센</td>\n",
       "      <td>박병호</td>\n",
       "      <td>한화</td>\n",
       "      <td>샘슨</td>\n",
       "      <td>4(1-2)</td>\n",
       "      <td>안타</td>\n",
       "      <td>좌익수 앞 1루타</td>\n",
       "      <td>150.37</td>\n",
       "      <td>181.25</td>\n",
       "      <td>62.993314</td>\n",
       "    </tr>\n",
       "    <tr>\n",
       "      <th>2</th>\n",
       "      <td>20180324</td>\n",
       "      <td>4회말</td>\n",
       "      <td>2:1</td>\n",
       "      <td>무사</td>\n",
       "      <td>주자없음</td>\n",
       "      <td>넥센</td>\n",
       "      <td>고종욱</td>\n",
       "      <td>한화</td>\n",
       "      <td>샘슨</td>\n",
       "      <td>1(0-0)</td>\n",
       "      <td>안타</td>\n",
       "      <td>우익수 앞 1루타</td>\n",
       "      <td>300.18</td>\n",
       "      <td>174.50</td>\n",
       "      <td>121.509975</td>\n",
       "    </tr>\n",
       "    <tr>\n",
       "      <th>3</th>\n",
       "      <td>20180324</td>\n",
       "      <td>4회말</td>\n",
       "      <td>2:1</td>\n",
       "      <td>1사</td>\n",
       "      <td>2루</td>\n",
       "      <td>넥센</td>\n",
       "      <td>이정후</td>\n",
       "      <td>한화</td>\n",
       "      <td>샘슨</td>\n",
       "      <td>2(0-1)</td>\n",
       "      <td>안타</td>\n",
       "      <td>좌중간 2루타</td>\n",
       "      <td>148.95</td>\n",
       "      <td>100.25</td>\n",
       "      <td>72.228205</td>\n",
       "    </tr>\n",
       "    <tr>\n",
       "      <th>4</th>\n",
       "      <td>20180324</td>\n",
       "      <td>4회말</td>\n",
       "      <td>2:2</td>\n",
       "      <td>1사</td>\n",
       "      <td>3루</td>\n",
       "      <td>넥센</td>\n",
       "      <td>박동원</td>\n",
       "      <td>한화</td>\n",
       "      <td>샘슨</td>\n",
       "      <td>6(2-3)</td>\n",
       "      <td>안타</td>\n",
       "      <td>중견수 왼쪽 1루타</td>\n",
       "      <td>207.17</td>\n",
       "      <td>131.00</td>\n",
       "      <td>87.032824</td>\n",
       "    </tr>\n",
       "  </tbody>\n",
       "</table>\n",
       "</div>"
      ],
      "text/plain": [
       "       date inning score out runner batter_team batter pitcher_team pitcher  \\\n",
       "0  20180324    2회말   2:0  1사   주자없음          넥센    김하성           한화      샘슨   \n",
       "1  20180324    3회말   2:1  2사   주자없음          넥센    박병호           한화      샘슨   \n",
       "2  20180324    4회말   2:1  무사   주자없음          넥센    고종욱           한화      샘슨   \n",
       "3  20180324    4회말   2:1  1사     2루          넥센    이정후           한화      샘슨   \n",
       "4  20180324    4회말   2:2  1사     3루          넥센    박동원           한화      샘슨   \n",
       "\n",
       "  ball_count result       cause       X       Y       angle  \n",
       "0     7(2-3)     안타     좌중간 1루타  199.36  159.50   83.545270  \n",
       "1     4(1-2)     안타   좌익수 앞 1루타  150.37  181.25   62.993314  \n",
       "2     1(0-0)     안타   우익수 앞 1루타  300.18  174.50  121.509975  \n",
       "3     2(0-1)     안타     좌중간 2루타  148.95  100.25   72.228205  \n",
       "4     6(2-3)     안타  중견수 왼쪽 1루타  207.17  131.00   87.032824  "
      ]
     },
     "execution_count": 24,
     "metadata": {},
     "output_type": "execute_result"
    }
   ],
   "source": [
    "combine.head()"
   ]
  },
  {
   "cell_type": "markdown",
   "metadata": {},
   "source": [
    "# CSV로 저장"
   ]
  },
  {
   "cell_type": "code",
   "execution_count": 25,
   "metadata": {},
   "outputs": [],
   "source": [
    "combine.to_csv('2018kbo.csv', index=False)"
   ]
  },
  {
   "cell_type": "code",
   "execution_count": null,
   "metadata": {},
   "outputs": [],
   "source": []
  }
 ],
 "metadata": {
  "kernelspec": {
   "display_name": "Python 3",
   "language": "python",
   "name": "python3"
  },
  "language_info": {
   "codemirror_mode": {
    "name": "ipython",
    "version": 3
   },
   "file_extension": ".py",
   "mimetype": "text/x-python",
   "name": "python",
   "nbconvert_exporter": "python",
   "pygments_lexer": "ipython3",
   "version": "3.7.0"
  }
 },
 "nbformat": 4,
 "nbformat_minor": 2
}
